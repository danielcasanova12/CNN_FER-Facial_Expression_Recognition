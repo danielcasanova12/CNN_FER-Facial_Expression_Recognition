{
 "cells": [
  {
   "cell_type": "code",
   "execution_count": 7,
   "metadata": {},
   "outputs": [],
   "source": [
    "import cv2\n",
    "import numpy as np\n",
    "from tensorflow.keras.models import load_model\n",
    "from tensorflow.keras.preprocessing.image import img_to_array"
   ]
  },
  {
   "cell_type": "code",
   "execution_count": 8,
   "metadata": {},
   "outputs": [],
   "source": [
    "cascade_path = \"./haarcascade_frontalface_default.xml\"\n",
    "face_detection = cv2.CascadeClassifier(cascade_path)"
   ]
  },
  {
   "cell_type": "code",
   "execution_count": 9,
   "metadata": {},
   "outputs": [],
   "source": [
    "\n",
    "# Carregar o modelo de reconhecimento de expressões faciais\n",
    "model_path = \"./modelo_01_expressoes.keras\"\n",
    "model = load_model(model_path, compile=False)\n"
   ]
  },
  {
   "cell_type": "code",
   "execution_count": 10,
   "metadata": {},
   "outputs": [],
   "source": [
    "# Definir as expressões\n",
    "expressoes = [\"raiva\", \"nojo\", \"medo\", \"feliz\", \"triste\", \"surpreso\", \"neutro\"]"
   ]
  },
  {
   "cell_type": "code",
   "execution_count": 11,
   "metadata": {},
   "outputs": [],
   "source": [
    "# Iniciar a captura de vídeo\n",
    "cap = cv2.VideoCapture(0)  # 0 é o índice da câmera padrão\n",
    "\n",
    "while True:\n",
    "    ret, frame = cap.read()\n",
    "    if not ret:\n",
    "        break\n",
    "    \n",
    "    # Converter para escala de cinza\n",
    "    gray = cv2.cvtColor(frame, cv2.COLOR_BGR2GRAY)\n",
    "    \n",
    "    # Detectar faces na imagem\n",
    "    faces = face_detection.detectMultiScale(gray, scaleFactor=1.1, minNeighbors=5, minSize=(20, 20))\n",
    "    \n",
    "    for (x, y, w, h) in faces:\n",
    "        # Extrair a região de interesse (ROI)\n",
    "        roi = gray[y:y + h, x:x + w]\n",
    "        roi = cv2.resize(roi, (48, 48))\n",
    "        roi = roi.astype(\"float\") / 255.0\n",
    "        roi = img_to_array(roi)\n",
    "        roi = np.expand_dims(roi, axis=0)\n",
    "        \n",
    "        # Fazer a previsão da expressão facial\n",
    "        preds = model.predict(roi)[0]\n",
    "        label = expressoes[np.argmax(preds)]\n",
    "        \n",
    "        # Desenhar um retângulo ao redor do rosto e adicionar o rótulo\n",
    "        cv2.putText(frame, label, (x, y - 10), cv2.FONT_HERSHEY_SIMPLEX, 1, (0, 255, 0), 2, cv2.LINE_AA)\n",
    "        cv2.rectangle(frame, (x, y), (x + w, y + h), (0, 255, 0), 2)\n",
    "    \n",
    "    # Mostrar o frame com as detecções\n",
    "    cv2.imshow(\"Emoção Facial\", frame)\n",
    "    \n",
    "    # Parar a captura se a tecla 'q' for pressionada\n",
    "    if cv2.waitKey(1) & 0xFF == ord('q'):\n",
    "        break"
   ]
  },
  {
   "cell_type": "code",
   "execution_count": 12,
   "metadata": {},
   "outputs": [],
   "source": [
    "cap.release()\n",
    "cv2.destroyAllWindows()"
   ]
  }
 ],
 "metadata": {
  "kernelspec": {
   "display_name": "Python 3",
   "language": "python",
   "name": "python3"
  },
  "language_info": {
   "codemirror_mode": {
    "name": "ipython",
    "version": 3
   },
   "file_extension": ".py",
   "mimetype": "text/x-python",
   "name": "python",
   "nbconvert_exporter": "python",
   "pygments_lexer": "ipython3",
   "version": "3.11.6"
  }
 },
 "nbformat": 4,
 "nbformat_minor": 2
}
